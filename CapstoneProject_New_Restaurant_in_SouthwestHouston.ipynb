{
    "cells": [
        {
            "metadata": {
                "collapsed": true
            },
            "cell_type": "markdown",
            "source": "# Capstone Project: New_Restaurant in Southwest Houston"
        },
        {
            "metadata": {},
            "cell_type": "markdown",
            "source": "by Deming Wang\n\n11/20/2020"
        },
        {
            "metadata": {},
            "cell_type": "markdown",
            "source": "Part I: Introduction"
        },
        {
            "metadata": {},
            "cell_type": "markdown",
            "source": "In this project, I will try to analyze restaurant distribution in Sugar Land and Minority City area. This report will target to stakeholders who are interested in opening an Asian restaurant in Sugar Land, TX.\n\nSugar Land and Missouri city are two cities located in great Houston metropolitan area in Texas. Both cities are mostly in Fort Bend County with lots of active business. There are lots of different types of restaurants and we will try to see how these restaurants distributed and find out the best possible location for a new Asian restaurant."
        },
        {
            "metadata": {},
            "cell_type": "markdown",
            "source": "Part II: Data"
        },
        {
            "metadata": {},
            "cell_type": "markdown",
            "source": "Based on definition of our problem, the following factors are key answers to our problem:\n* All existing restaurants in both cities\n* Locations of these restaurants\n* Food type (category) of each restaurants: for example, Asian restaurant, Mexican restaurant, Cafe, etc.\n\nIt is possible to get all restaurants for each neighborhood, but many neighborhoods are in irregular shape and hard to use neighborhood center to search restaurants. To have better coverage, we'll define two cities to many small area, then perform restaurant search based on center of each area. The following data will be needed to extract/generate the required restaurant information:\n* coordinates of the center in both cities using folium map.\n* generate small areas in folium map\n* retrieve all restaurants for each area using Foursquare API"
        }
    ],
    "metadata": {
        "kernelspec": {
            "name": "python3",
            "display_name": "Python 3.7",
            "language": "python"
        },
        "language_info": {
            "name": "python",
            "version": "3.7.9",
            "mimetype": "text/x-python",
            "codemirror_mode": {
                "name": "ipython",
                "version": 3
            },
            "pygments_lexer": "ipython3",
            "nbconvert_exporter": "python",
            "file_extension": ".py"
        }
    },
    "nbformat": 4,
    "nbformat_minor": 1
}